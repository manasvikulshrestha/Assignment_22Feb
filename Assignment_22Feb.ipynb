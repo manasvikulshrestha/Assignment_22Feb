{
 "cells": [
  {
   "cell_type": "markdown",
   "id": "56705294-be88-4baa-b76d-cfa58b8211dc",
   "metadata": {},
   "source": [
    "Q1. Create a Pandas Series that contains the following data: 4, 8, 15, 16, 23, and 42. Then, print the series. "
   ]
  },
  {
   "cell_type": "code",
   "execution_count": 4,
   "id": "972da443-006c-40e2-b52f-4abc2ba6ff36",
   "metadata": {},
   "outputs": [
    {
     "name": "stdout",
     "output_type": "stream",
     "text": [
      "0     4\n",
      "1     8\n",
      "2    15\n",
      "3    16\n",
      "4    23\n",
      "5    42\n",
      "dtype: int64\n"
     ]
    }
   ],
   "source": [
    "import pandas as pd\n",
    "\n",
    "data1 = [4, 8, 15, 16, 23, 42]\n",
    "series1 = pd.Series(data1)\n",
    "\n",
    "print(series1)"
   ]
  },
  {
   "cell_type": "markdown",
   "id": "262e6966-927a-4730-a2b2-f10023998a57",
   "metadata": {},
   "source": [
    "Q2. Create a variable of list type containing 10 elements in it, and apply pandas.Series function on the variable print it. "
   ]
  },
  {
   "cell_type": "code",
   "execution_count": 5,
   "id": "04ee92d3-5011-4015-8823-869c35e8f5f3",
   "metadata": {},
   "outputs": [
    {
     "name": "stdout",
     "output_type": "stream",
     "text": [
      "0    23\n",
      "1    23\n",
      "2    23\n",
      "3    23\n",
      "4    23\n",
      "5    23\n",
      "6    23\n",
      "7    23\n",
      "8    23\n",
      "9    23\n",
      "dtype: int64\n"
     ]
    }
   ],
   "source": [
    "data2 = [23,23,23,23,23,23,23,23,23,23]\n",
    "series2 = pd.Series(data2)\n",
    "\n",
    "print(series2)"
   ]
  },
  {
   "cell_type": "markdown",
   "id": "acd84608-9dd8-4323-bc58-64bd72a2c0de",
   "metadata": {},
   "source": [
    "Q3. Create a Pandas DataFrame that contains the following data. Then, print the DataFrame. \n",
    "Name \n",
    "- Alice \n",
    "- Bob \n",
    "- Claire \n",
    "\n",
    "Age \n",
    "- 25 \n",
    "- 30 \n",
    "- 27 \n",
    "\n",
    "Gender \n",
    "- Female \n",
    "- Male \n",
    "- Female"
   ]
  },
  {
   "cell_type": "code",
   "execution_count": 6,
   "id": "a8760c4c-f2c4-44f7-923b-f60002941949",
   "metadata": {},
   "outputs": [
    {
     "name": "stdout",
     "output_type": "stream",
     "text": [
      "     Name  Age  Gender\n",
      "0   Alice   25  Female\n",
      "1     Bob   30    Male\n",
      "2  Claire   27  Female\n"
     ]
    }
   ],
   "source": [
    "data3 = {\n",
    "    'Name': ['Alice', 'Bob', 'Claire'],\n",
    "    'Age': [25, 30, 27],\n",
    "    'Gender': ['Female', 'Male', 'Female']\n",
    "}\n",
    "\n",
    "df3 = pd.DataFrame(data3)\n",
    "\n",
    "print(df3)"
   ]
  },
  {
   "cell_type": "markdown",
   "id": "423a6a4f-cbee-46f9-beb4-5da42482c88e",
   "metadata": {},
   "source": [
    "Q4. What is ‘DataFrame’ in pandas and how is it different from pandas.series? Explain with an example. \n",
    "A4. In pandas, a DataFrame is a 2-dimensional labeled data structure with columns of potentially different types. It can be thought of as a table or spreadsheet-like data structure where data is organized into rows and columns. Each column in a DataFrame is a pandas Series. In other words, a DataFrame is a collection of Series that share the same index.\n",
    "\n",
    "On the other hand, a Series in pandas is a one-dimensional labeled array capable of holding data of any type (integer, string, float, etc.). It is essentially a single column of data with an associated index."
   ]
  },
  {
   "cell_type": "code",
   "execution_count": 8,
   "id": "e7d0e5bc-8550-420d-bcc5-ac06051f9416",
   "metadata": {},
   "outputs": [
    {
     "name": "stdout",
     "output_type": "stream",
     "text": [
      "Series:\n",
      "0    10\n",
      "1    20\n",
      "2    30\n",
      "3    40\n",
      "Name: Numbers, dtype: int64\n",
      "\n",
      "DataFrame:\n",
      "     Name  Age  Gender\n",
      "0   Alice   25  Female\n",
      "1     Bob   30    Male\n",
      "2  Claire   27  Female\n"
     ]
    }
   ],
   "source": [
    "#Example\n",
    "\n",
    "series4 = pd.Series([10, 20, 30, 40], name='Numbers')\n",
    "\n",
    "data4 = {\n",
    "    'Name': ['Alice', 'Bob', 'Claire'],\n",
    "    'Age': [25, 30, 27],\n",
    "    'Gender': ['Female', 'Male', 'Female']\n",
    "}\n",
    "df4 = pd.DataFrame(data4)\n",
    "\n",
    "print(\"Series:\")\n",
    "print(series4)\n",
    "print(\"\\nDataFrame:\")\n",
    "print(df4)"
   ]
  },
  {
   "cell_type": "markdown",
   "id": "68717fbe-a55b-4783-a5f1-13e11f9c6e09",
   "metadata": {},
   "source": [
    "Q5. What are some common functions you can use to manipulate data in a Pandas DataFrame? Can  you give an example of when you might use one of these functions? \n",
    "A5. Pandas provides a wide range of functions to manipulate data in a DataFrame. Some common functions include:\n",
    "\n",
    "1. head() and tail(): Used to view the first or last few rows of the DataFrame.\n",
    "2. info(): Provides a concise summary of the DataFrame including data types and missing values.\n",
    "3. describe(): Generates descriptive statistics of the DataFrame, such as count, mean, standard deviation, etc.\n",
    "4. set_index(): Sets the DataFrame index using existing columns.\n",
    "5. reset_index(): Resets the DataFrame index, converting the index labels to a column.\n",
    "6. loc[] and iloc[]: Used for label-based and integer-based indexing respectively to access rows and columns by label or position.\n",
    "7. drop(): Allows dropping rows or columns from the DataFrame.\n",
    "8. fillna(): Fills missing values in the DataFrame with specified values.\n",
    "9. groupby(): Allows grouping the DataFrame by one or more columns and performing operations on the grouped data.\n",
    "10. merge() and concat(): Used for combining DataFrames either by merging on columns or concatenating along an axis."
   ]
  },
  {
   "cell_type": "code",
   "execution_count": 9,
   "id": "2120fb2e-1c0d-47db-a981-d39771c05cbc",
   "metadata": {},
   "outputs": [
    {
     "name": "stdout",
     "output_type": "stream",
     "text": [
      "     A     B        C\n",
      "0  1.0   0.0        X\n",
      "1  2.0  10.0        Y\n",
      "2  3.0  20.0  Unknown\n",
      "3  4.0  30.0        Z\n",
      "4  5.0   0.0        W\n"
     ]
    }
   ],
   "source": [
    "import pandas as pd\n",
    "import numpy as np\n",
    "\n",
    "# Creating a sample DataFrame with missing values\n",
    "data = {\n",
    "    'A': [1, 2, np.nan, 4, 5],\n",
    "    'B': [np.nan, 10, 20, 30, np.nan],\n",
    "    'C': ['X', 'Y', np.nan, 'Z', 'W']\n",
    "}\n",
    "df = pd.DataFrame(data)\n",
    "\n",
    "# Fill missing values in column A with the mean of column A\n",
    "mean_A = df['A'].mean()\n",
    "df['A'] = df['A'].fillna(mean_A)\n",
    "\n",
    "# Fill missing values in column B with 0\n",
    "df['B'] = df['B'].fillna(0)\n",
    "\n",
    "# Fill missing values in column C with a specified value, say 'Unknown'\n",
    "df['C'] = df['C'].fillna('Unknown')\n",
    "\n",
    "print(df)"
   ]
  },
  {
   "cell_type": "markdown",
   "id": "ea1b0a8d-ad5b-443f-928c-175bd9e9210d",
   "metadata": {},
   "source": [
    "Q6. Which of the following is mutable in nature Series, DataFrame, Panel? \n",
    "A6. Among the options provided, both Series and DataFrame are mutable in nature, while Panel is not.\n",
    "\n",
    "- Series: A pandas Series is mutable, meaning you can modify the values after creation. You can change, add, or remove elements from a Series.\n",
    "\n",
    "- DataFrame: Similarly, a pandas DataFrame is mutable. You can modify its contents, add or remove columns, and perform various operations to manipulate the data within the DataFrame.\n",
    "\n",
    "- Panel: However, Panel is not mutable. Panel has been deprecated since version 0.25.0 (July 2019) and is no longer recommended for general use. It was a 3-dimensional data structure, but its functionality has been mostly replaced by MultiIndexing within DataFrames.\n",
    "\n",
    "In summary, Series and DataFrame are mutable, but Panel is not."
   ]
  },
  {
   "cell_type": "markdown",
   "id": "74ba14ea-cd0d-426d-ac8d-a83308623d93",
   "metadata": {},
   "source": [
    "Q7. Create a DataFrame using multiple Series. Explain with an example."
   ]
  },
  {
   "cell_type": "code",
   "execution_count": null,
   "id": "325ee5b6-76f9-482f-a286-23195a1184c1",
   "metadata": {},
   "outputs": [],
   "source": [
    "# Creating multiple Series for product sales data\n",
    "products = pd.Series(['Product A', 'Product B', 'Product C'])\n",
    "sales_2021 = pd.Series([1000, 1500, 1200])\n",
    "sales_2022 = pd.Series([1200, 1600, 1300])\n",
    "sales_2023 = pd.Series([1300, 1700, 1400])\n",
    "\n",
    "# Creating a DataFrame using multiple Series\n",
    "data7 = {\n",
    "    'Product': products,\n",
    "    'Sales 2021': sales_2021,\n",
    "    'Sales 2022': sales_2022,\n",
    "    'Sales 2023': sales_2023\n",
    "}\n",
    "sales_df = pd.DataFrame(data7)\n",
    "\n",
    "print(sales_df)"
   ]
  }
 ],
 "metadata": {
  "kernelspec": {
   "display_name": "Python 3 (ipykernel)",
   "language": "python",
   "name": "python3"
  },
  "language_info": {
   "codemirror_mode": {
    "name": "ipython",
    "version": 3
   },
   "file_extension": ".py",
   "mimetype": "text/x-python",
   "name": "python",
   "nbconvert_exporter": "python",
   "pygments_lexer": "ipython3",
   "version": "3.10.8"
  }
 },
 "nbformat": 4,
 "nbformat_minor": 5
}
